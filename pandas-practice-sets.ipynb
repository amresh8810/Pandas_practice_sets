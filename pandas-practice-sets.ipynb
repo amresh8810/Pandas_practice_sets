{
 "cells": [
  {
   "cell_type": "code",
   "execution_count": 1,
   "id": "1666f2fb",
   "metadata": {
    "_cell_guid": "b1076dfc-b9ad-4769-8c92-a6c4dae69d19",
    "_uuid": "8f2839f25d086af736a60e9eeb907d3b93b6e0e5",
    "execution": {
     "iopub.execute_input": "2025-03-21T06:34:01.531024Z",
     "iopub.status.busy": "2025-03-21T06:34:01.530604Z",
     "iopub.status.idle": "2025-03-21T06:34:02.635355Z",
     "shell.execute_reply": "2025-03-21T06:34:02.633883Z"
    },
    "papermill": {
     "duration": 1.118262,
     "end_time": "2025-03-21T06:34:02.637502",
     "exception": false,
     "start_time": "2025-03-21T06:34:01.519240",
     "status": "completed"
    },
    "tags": []
   },
   "outputs": [
    {
     "name": "stdout",
     "output_type": "stream",
     "text": [
      "/kaggle/input/pandas-practice-dataset/data.csv\n"
     ]
    }
   ],
   "source": [
    "# This Python 3 environment comes with many helpful analytics libraries installed\n",
    "# It is defined by the kaggle/python Docker image: https://github.com/kaggle/docker-python\n",
    "# For example, here's several helpful packages to load\n",
    "\n",
    "import numpy as np # linear algebra\n",
    "import pandas as pd # data processing, CSV file I/O (e.g. pd.read_csv)\n",
    "\n",
    "# Input data files are available in the read-only \"../input/\" directory\n",
    "# For example, running this (by clicking run or pressing Shift+Enter) will list all files under the input directory\n",
    "\n",
    "import os\n",
    "for dirname, _, filenames in os.walk('/kaggle/input'):\n",
    "    for filename in filenames:\n",
    "        print(os.path.join(dirname, filename))\n",
    "\n",
    "# You can write up to 20GB to the current directory (/kaggle/working/) that gets preserved as output when you create a version using \"Save & Run All\" \n",
    "# You can also write temporary files to /kaggle/temp/, but they won't be saved outside of the current session"
   ]
  },
  {
   "cell_type": "code",
   "execution_count": 2,
   "id": "b8cf3345",
   "metadata": {
    "execution": {
     "iopub.execute_input": "2025-03-21T06:34:02.654882Z",
     "iopub.status.busy": "2025-03-21T06:34:02.654205Z",
     "iopub.status.idle": "2025-03-21T06:34:02.659051Z",
     "shell.execute_reply": "2025-03-21T06:34:02.657899Z"
    },
    "papermill": {
     "duration": 0.015258,
     "end_time": "2025-03-21T06:34:02.660862",
     "exception": false,
     "start_time": "2025-03-21T06:34:02.645604",
     "status": "completed"
    },
    "tags": []
   },
   "outputs": [],
   "source": [
    "data = \"/kaggle/input/pandas-practice-dataset/data.csv\"\n",
    "\n"
   ]
  },
  {
   "cell_type": "code",
   "execution_count": 3,
   "id": "04fb2ad5",
   "metadata": {
    "execution": {
     "iopub.execute_input": "2025-03-21T06:34:02.678154Z",
     "iopub.status.busy": "2025-03-21T06:34:02.677658Z",
     "iopub.status.idle": "2025-03-21T06:34:02.698026Z",
     "shell.execute_reply": "2025-03-21T06:34:02.696885Z"
    },
    "papermill": {
     "duration": 0.031534,
     "end_time": "2025-03-21T06:34:02.700172",
     "exception": false,
     "start_time": "2025-03-21T06:34:02.668638",
     "status": "completed"
    },
    "tags": []
   },
   "outputs": [],
   "source": [
    "df = pd.read_csv(data)"
   ]
  },
  {
   "cell_type": "code",
   "execution_count": 4,
   "id": "6df23914",
   "metadata": {
    "execution": {
     "iopub.execute_input": "2025-03-21T06:34:02.717480Z",
     "iopub.status.busy": "2025-03-21T06:34:02.716967Z",
     "iopub.status.idle": "2025-03-21T06:34:02.748245Z",
     "shell.execute_reply": "2025-03-21T06:34:02.746802Z"
    },
    "papermill": {
     "duration": 0.042448,
     "end_time": "2025-03-21T06:34:02.750440",
     "exception": false,
     "start_time": "2025-03-21T06:34:02.707992",
     "status": "completed"
    },
    "tags": []
   },
   "outputs": [
    {
     "data": {
      "text/html": [
       "<div>\n",
       "<style scoped>\n",
       "    .dataframe tbody tr th:only-of-type {\n",
       "        vertical-align: middle;\n",
       "    }\n",
       "\n",
       "    .dataframe tbody tr th {\n",
       "        vertical-align: top;\n",
       "    }\n",
       "\n",
       "    .dataframe thead th {\n",
       "        text-align: right;\n",
       "    }\n",
       "</style>\n",
       "<table border=\"1\" class=\"dataframe\">\n",
       "  <thead>\n",
       "    <tr style=\"text-align: right;\">\n",
       "      <th></th>\n",
       "      <th>Duration</th>\n",
       "      <th>Date</th>\n",
       "      <th>Pulse</th>\n",
       "      <th>Maxpulse</th>\n",
       "      <th>Calories</th>\n",
       "    </tr>\n",
       "  </thead>\n",
       "  <tbody>\n",
       "    <tr>\n",
       "      <th>0</th>\n",
       "      <td>60</td>\n",
       "      <td>'2020/12/01'</td>\n",
       "      <td>110</td>\n",
       "      <td>130</td>\n",
       "      <td>409.1</td>\n",
       "    </tr>\n",
       "    <tr>\n",
       "      <th>1</th>\n",
       "      <td>60</td>\n",
       "      <td>'2020/12/02'</td>\n",
       "      <td>117</td>\n",
       "      <td>145</td>\n",
       "      <td>479.0</td>\n",
       "    </tr>\n",
       "    <tr>\n",
       "      <th>2</th>\n",
       "      <td>60</td>\n",
       "      <td>'2020/12/03'</td>\n",
       "      <td>103</td>\n",
       "      <td>135</td>\n",
       "      <td>340.0</td>\n",
       "    </tr>\n",
       "    <tr>\n",
       "      <th>3</th>\n",
       "      <td>45</td>\n",
       "      <td>'2020/12/04'</td>\n",
       "      <td>109</td>\n",
       "      <td>175</td>\n",
       "      <td>282.4</td>\n",
       "    </tr>\n",
       "    <tr>\n",
       "      <th>4</th>\n",
       "      <td>45</td>\n",
       "      <td>'2020/12/05'</td>\n",
       "      <td>117</td>\n",
       "      <td>148</td>\n",
       "      <td>406.0</td>\n",
       "    </tr>\n",
       "  </tbody>\n",
       "</table>\n",
       "</div>"
      ],
      "text/plain": [
       "   Duration          Date  Pulse  Maxpulse  Calories\n",
       "0        60  '2020/12/01'    110       130     409.1\n",
       "1        60  '2020/12/02'    117       145     479.0\n",
       "2        60  '2020/12/03'    103       135     340.0\n",
       "3        45  '2020/12/04'    109       175     282.4\n",
       "4        45  '2020/12/05'    117       148     406.0"
      ]
     },
     "execution_count": 4,
     "metadata": {},
     "output_type": "execute_result"
    }
   ],
   "source": [
    "df.head()"
   ]
  },
  {
   "cell_type": "code",
   "execution_count": 5,
   "id": "f25f977e",
   "metadata": {
    "execution": {
     "iopub.execute_input": "2025-03-21T06:34:02.768397Z",
     "iopub.status.busy": "2025-03-21T06:34:02.767887Z",
     "iopub.status.idle": "2025-03-21T06:34:02.784330Z",
     "shell.execute_reply": "2025-03-21T06:34:02.782870Z"
    },
    "papermill": {
     "duration": 0.027635,
     "end_time": "2025-03-21T06:34:02.786249",
     "exception": false,
     "start_time": "2025-03-21T06:34:02.758614",
     "status": "completed"
    },
    "tags": []
   },
   "outputs": [
    {
     "name": "stderr",
     "output_type": "stream",
     "text": [
      "/usr/local/lib/python3.10/dist-packages/pandas/io/formats/format.py:1458: RuntimeWarning: invalid value encountered in greater\n",
      "  has_large_values = (abs_vals > 1e6).any()\n",
      "/usr/local/lib/python3.10/dist-packages/pandas/io/formats/format.py:1459: RuntimeWarning: invalid value encountered in less\n",
      "  has_small_values = ((abs_vals < 10 ** (-self.digits)) & (abs_vals > 0)).any()\n",
      "/usr/local/lib/python3.10/dist-packages/pandas/io/formats/format.py:1459: RuntimeWarning: invalid value encountered in greater\n",
      "  has_small_values = ((abs_vals < 10 ** (-self.digits)) & (abs_vals > 0)).any()\n"
     ]
    },
    {
     "data": {
      "text/html": [
       "<div>\n",
       "<style scoped>\n",
       "    .dataframe tbody tr th:only-of-type {\n",
       "        vertical-align: middle;\n",
       "    }\n",
       "\n",
       "    .dataframe tbody tr th {\n",
       "        vertical-align: top;\n",
       "    }\n",
       "\n",
       "    .dataframe thead th {\n",
       "        text-align: right;\n",
       "    }\n",
       "</style>\n",
       "<table border=\"1\" class=\"dataframe\">\n",
       "  <thead>\n",
       "    <tr style=\"text-align: right;\">\n",
       "      <th></th>\n",
       "      <th>Duration</th>\n",
       "      <th>Date</th>\n",
       "      <th>Pulse</th>\n",
       "      <th>Maxpulse</th>\n",
       "      <th>Calories</th>\n",
       "    </tr>\n",
       "  </thead>\n",
       "  <tbody>\n",
       "    <tr>\n",
       "      <th>27</th>\n",
       "      <td>60</td>\n",
       "      <td>'2020/12/27'</td>\n",
       "      <td>92</td>\n",
       "      <td>118</td>\n",
       "      <td>241.0</td>\n",
       "    </tr>\n",
       "    <tr>\n",
       "      <th>28</th>\n",
       "      <td>60</td>\n",
       "      <td>'2020/12/28'</td>\n",
       "      <td>103</td>\n",
       "      <td>132</td>\n",
       "      <td>NaN</td>\n",
       "    </tr>\n",
       "    <tr>\n",
       "      <th>29</th>\n",
       "      <td>60</td>\n",
       "      <td>'2020/12/29'</td>\n",
       "      <td>100</td>\n",
       "      <td>132</td>\n",
       "      <td>280.0</td>\n",
       "    </tr>\n",
       "    <tr>\n",
       "      <th>30</th>\n",
       "      <td>60</td>\n",
       "      <td>'2020/12/30'</td>\n",
       "      <td>102</td>\n",
       "      <td>129</td>\n",
       "      <td>380.3</td>\n",
       "    </tr>\n",
       "    <tr>\n",
       "      <th>31</th>\n",
       "      <td>60</td>\n",
       "      <td>'2020/12/31'</td>\n",
       "      <td>92</td>\n",
       "      <td>115</td>\n",
       "      <td>243.0</td>\n",
       "    </tr>\n",
       "  </tbody>\n",
       "</table>\n",
       "</div>"
      ],
      "text/plain": [
       "    Duration          Date  Pulse  Maxpulse  Calories\n",
       "27        60  '2020/12/27'     92       118     241.0\n",
       "28        60  '2020/12/28'    103       132       NaN\n",
       "29        60  '2020/12/29'    100       132     280.0\n",
       "30        60  '2020/12/30'    102       129     380.3\n",
       "31        60  '2020/12/31'     92       115     243.0"
      ]
     },
     "execution_count": 5,
     "metadata": {},
     "output_type": "execute_result"
    }
   ],
   "source": [
    "df.tail()"
   ]
  },
  {
   "cell_type": "code",
   "execution_count": 6,
   "id": "e9db6a93",
   "metadata": {
    "execution": {
     "iopub.execute_input": "2025-03-21T06:34:02.803966Z",
     "iopub.status.busy": "2025-03-21T06:34:02.803533Z",
     "iopub.status.idle": "2025-03-21T06:34:02.835410Z",
     "shell.execute_reply": "2025-03-21T06:34:02.833972Z"
    },
    "papermill": {
     "duration": 0.042915,
     "end_time": "2025-03-21T06:34:02.837317",
     "exception": false,
     "start_time": "2025-03-21T06:34:02.794402",
     "status": "completed"
    },
    "tags": []
   },
   "outputs": [
    {
     "name": "stdout",
     "output_type": "stream",
     "text": [
      "<class 'pandas.core.frame.DataFrame'>\n",
      "RangeIndex: 32 entries, 0 to 31\n",
      "Data columns (total 5 columns):\n",
      " #   Column    Non-Null Count  Dtype  \n",
      "---  ------    --------------  -----  \n",
      " 0   Duration  32 non-null     int64  \n",
      " 1   Date      31 non-null     object \n",
      " 2   Pulse     32 non-null     int64  \n",
      " 3   Maxpulse  32 non-null     int64  \n",
      " 4   Calories  30 non-null     float64\n",
      "dtypes: float64(1), int64(3), object(1)\n",
      "memory usage: 1.4+ KB\n"
     ]
    }
   ],
   "source": [
    "df.info()"
   ]
  },
  {
   "cell_type": "code",
   "execution_count": 7,
   "id": "7372331b",
   "metadata": {
    "execution": {
     "iopub.execute_input": "2025-03-21T06:34:02.855257Z",
     "iopub.status.busy": "2025-03-21T06:34:02.854720Z",
     "iopub.status.idle": "2025-03-21T06:34:02.861606Z",
     "shell.execute_reply": "2025-03-21T06:34:02.860409Z"
    },
    "papermill": {
     "duration": 0.017902,
     "end_time": "2025-03-21T06:34:02.863407",
     "exception": false,
     "start_time": "2025-03-21T06:34:02.845505",
     "status": "completed"
    },
    "tags": []
   },
   "outputs": [
    {
     "data": {
      "text/plain": [
       "(32, 5)"
      ]
     },
     "execution_count": 7,
     "metadata": {},
     "output_type": "execute_result"
    }
   ],
   "source": [
    "df.shape"
   ]
  },
  {
   "cell_type": "code",
   "execution_count": 8,
   "id": "79087d28",
   "metadata": {
    "execution": {
     "iopub.execute_input": "2025-03-21T06:34:02.882416Z",
     "iopub.status.busy": "2025-03-21T06:34:02.881887Z",
     "iopub.status.idle": "2025-03-21T06:34:02.886751Z",
     "shell.execute_reply": "2025-03-21T06:34:02.885647Z"
    },
    "papermill": {
     "duration": 0.017015,
     "end_time": "2025-03-21T06:34:02.888769",
     "exception": false,
     "start_time": "2025-03-21T06:34:02.871754",
     "status": "completed"
    },
    "tags": []
   },
   "outputs": [],
   "source": [
    "df1 = df"
   ]
  },
  {
   "cell_type": "code",
   "execution_count": 9,
   "id": "d600abb8",
   "metadata": {
    "execution": {
     "iopub.execute_input": "2025-03-21T06:34:02.906858Z",
     "iopub.status.busy": "2025-03-21T06:34:02.906420Z",
     "iopub.status.idle": "2025-03-21T06:34:02.917909Z",
     "shell.execute_reply": "2025-03-21T06:34:02.916708Z"
    },
    "papermill": {
     "duration": 0.022588,
     "end_time": "2025-03-21T06:34:02.919816",
     "exception": false,
     "start_time": "2025-03-21T06:34:02.897228",
     "status": "completed"
    },
    "tags": []
   },
   "outputs": [
    {
     "data": {
      "text/html": [
       "<div>\n",
       "<style scoped>\n",
       "    .dataframe tbody tr th:only-of-type {\n",
       "        vertical-align: middle;\n",
       "    }\n",
       "\n",
       "    .dataframe tbody tr th {\n",
       "        vertical-align: top;\n",
       "    }\n",
       "\n",
       "    .dataframe thead th {\n",
       "        text-align: right;\n",
       "    }\n",
       "</style>\n",
       "<table border=\"1\" class=\"dataframe\">\n",
       "  <thead>\n",
       "    <tr style=\"text-align: right;\">\n",
       "      <th></th>\n",
       "      <th>Duration</th>\n",
       "      <th>Date</th>\n",
       "      <th>Pulse</th>\n",
       "      <th>Maxpulse</th>\n",
       "      <th>Calories</th>\n",
       "    </tr>\n",
       "  </thead>\n",
       "  <tbody>\n",
       "    <tr>\n",
       "      <th>0</th>\n",
       "      <td>60</td>\n",
       "      <td>'2020/12/01'</td>\n",
       "      <td>110</td>\n",
       "      <td>130</td>\n",
       "      <td>409.1</td>\n",
       "    </tr>\n",
       "    <tr>\n",
       "      <th>1</th>\n",
       "      <td>60</td>\n",
       "      <td>'2020/12/02'</td>\n",
       "      <td>117</td>\n",
       "      <td>145</td>\n",
       "      <td>479.0</td>\n",
       "    </tr>\n",
       "    <tr>\n",
       "      <th>2</th>\n",
       "      <td>60</td>\n",
       "      <td>'2020/12/03'</td>\n",
       "      <td>103</td>\n",
       "      <td>135</td>\n",
       "      <td>340.0</td>\n",
       "    </tr>\n",
       "    <tr>\n",
       "      <th>3</th>\n",
       "      <td>45</td>\n",
       "      <td>'2020/12/04'</td>\n",
       "      <td>109</td>\n",
       "      <td>175</td>\n",
       "      <td>282.4</td>\n",
       "    </tr>\n",
       "    <tr>\n",
       "      <th>4</th>\n",
       "      <td>45</td>\n",
       "      <td>'2020/12/05'</td>\n",
       "      <td>117</td>\n",
       "      <td>148</td>\n",
       "      <td>406.0</td>\n",
       "    </tr>\n",
       "  </tbody>\n",
       "</table>\n",
       "</div>"
      ],
      "text/plain": [
       "   Duration          Date  Pulse  Maxpulse  Calories\n",
       "0        60  '2020/12/01'    110       130     409.1\n",
       "1        60  '2020/12/02'    117       145     479.0\n",
       "2        60  '2020/12/03'    103       135     340.0\n",
       "3        45  '2020/12/04'    109       175     282.4\n",
       "4        45  '2020/12/05'    117       148     406.0"
      ]
     },
     "execution_count": 9,
     "metadata": {},
     "output_type": "execute_result"
    }
   ],
   "source": [
    "df1.head()"
   ]
  },
  {
   "cell_type": "code",
   "execution_count": 10,
   "id": "5ea90ad4",
   "metadata": {
    "execution": {
     "iopub.execute_input": "2025-03-21T06:34:02.938349Z",
     "iopub.status.busy": "2025-03-21T06:34:02.937888Z",
     "iopub.status.idle": "2025-03-21T06:34:02.949817Z",
     "shell.execute_reply": "2025-03-21T06:34:02.948455Z"
    },
    "papermill": {
     "duration": 0.023475,
     "end_time": "2025-03-21T06:34:02.951688",
     "exception": false,
     "start_time": "2025-03-21T06:34:02.928213",
     "status": "completed"
    },
    "tags": []
   },
   "outputs": [
    {
     "name": "stdout",
     "output_type": "stream",
     "text": [
      "<class 'pandas.core.frame.DataFrame'>\n",
      "RangeIndex: 32 entries, 0 to 31\n",
      "Data columns (total 5 columns):\n",
      " #   Column    Non-Null Count  Dtype  \n",
      "---  ------    --------------  -----  \n",
      " 0   Duration  32 non-null     int64  \n",
      " 1   Date      31 non-null     object \n",
      " 2   Pulse     32 non-null     int64  \n",
      " 3   Maxpulse  32 non-null     int64  \n",
      " 4   Calories  30 non-null     float64\n",
      "dtypes: float64(1), int64(3), object(1)\n",
      "memory usage: 1.4+ KB\n"
     ]
    }
   ],
   "source": [
    "df1.info()"
   ]
  },
  {
   "cell_type": "code",
   "execution_count": 11,
   "id": "494fe8bd",
   "metadata": {
    "execution": {
     "iopub.execute_input": "2025-03-21T06:34:02.970781Z",
     "iopub.status.busy": "2025-03-21T06:34:02.970344Z",
     "iopub.status.idle": "2025-03-21T06:34:02.980957Z",
     "shell.execute_reply": "2025-03-21T06:34:02.979829Z"
    },
    "papermill": {
     "duration": 0.022148,
     "end_time": "2025-03-21T06:34:02.982764",
     "exception": false,
     "start_time": "2025-03-21T06:34:02.960616",
     "status": "completed"
    },
    "tags": []
   },
   "outputs": [
    {
     "data": {
      "text/plain": [
       "Duration     4\n",
       "Date        30\n",
       "Pulse       15\n",
       "Maxpulse    24\n",
       "Calories    26\n",
       "dtype: int64"
      ]
     },
     "execution_count": 11,
     "metadata": {},
     "output_type": "execute_result"
    }
   ],
   "source": [
    "df1.nunique()"
   ]
  },
  {
   "cell_type": "code",
   "execution_count": 12,
   "id": "61104652",
   "metadata": {
    "execution": {
     "iopub.execute_input": "2025-03-21T06:34:03.002301Z",
     "iopub.status.busy": "2025-03-21T06:34:03.001401Z",
     "iopub.status.idle": "2025-03-21T06:34:03.010269Z",
     "shell.execute_reply": "2025-03-21T06:34:03.008994Z"
    },
    "papermill": {
     "duration": 0.020767,
     "end_time": "2025-03-21T06:34:03.012177",
     "exception": false,
     "start_time": "2025-03-21T06:34:02.991410",
     "status": "completed"
    },
    "tags": []
   },
   "outputs": [
    {
     "data": {
      "text/plain": [
       "Index(['Duration', 'Date', 'Pulse', 'Maxpulse', 'Calories'], dtype='object')"
      ]
     },
     "execution_count": 12,
     "metadata": {},
     "output_type": "execute_result"
    }
   ],
   "source": [
    "df1.columns"
   ]
  },
  {
   "cell_type": "code",
   "execution_count": 13,
   "id": "b0d13dc4",
   "metadata": {
    "execution": {
     "iopub.execute_input": "2025-03-21T06:34:03.031341Z",
     "iopub.status.busy": "2025-03-21T06:34:03.030825Z",
     "iopub.status.idle": "2025-03-21T06:34:03.039005Z",
     "shell.execute_reply": "2025-03-21T06:34:03.037782Z"
    },
    "papermill": {
     "duration": 0.019881,
     "end_time": "2025-03-21T06:34:03.040859",
     "exception": false,
     "start_time": "2025-03-21T06:34:03.020978",
     "status": "completed"
    },
    "tags": []
   },
   "outputs": [
    {
     "data": {
      "text/plain": [
       "Duration      int64\n",
       "Date         object\n",
       "Pulse         int64\n",
       "Maxpulse      int64\n",
       "Calories    float64\n",
       "dtype: object"
      ]
     },
     "execution_count": 13,
     "metadata": {},
     "output_type": "execute_result"
    }
   ],
   "source": [
    "df1.dtypes"
   ]
  },
  {
   "cell_type": "code",
   "execution_count": 14,
   "id": "20f65939",
   "metadata": {
    "execution": {
     "iopub.execute_input": "2025-03-21T06:34:03.061047Z",
     "iopub.status.busy": "2025-03-21T06:34:03.060573Z",
     "iopub.status.idle": "2025-03-21T06:34:03.084450Z",
     "shell.execute_reply": "2025-03-21T06:34:03.083196Z"
    },
    "papermill": {
     "duration": 0.036152,
     "end_time": "2025-03-21T06:34:03.086468",
     "exception": false,
     "start_time": "2025-03-21T06:34:03.050316",
     "status": "completed"
    },
    "tags": []
   },
   "outputs": [
    {
     "data": {
      "text/html": [
       "<div>\n",
       "<style scoped>\n",
       "    .dataframe tbody tr th:only-of-type {\n",
       "        vertical-align: middle;\n",
       "    }\n",
       "\n",
       "    .dataframe tbody tr th {\n",
       "        vertical-align: top;\n",
       "    }\n",
       "\n",
       "    .dataframe thead th {\n",
       "        text-align: right;\n",
       "    }\n",
       "</style>\n",
       "<table border=\"1\" class=\"dataframe\">\n",
       "  <thead>\n",
       "    <tr style=\"text-align: right;\">\n",
       "      <th></th>\n",
       "      <th>Duration</th>\n",
       "      <th>Pulse</th>\n",
       "      <th>Maxpulse</th>\n",
       "      <th>Calories</th>\n",
       "    </tr>\n",
       "  </thead>\n",
       "  <tbody>\n",
       "    <tr>\n",
       "      <th>count</th>\n",
       "      <td>32.000000</td>\n",
       "      <td>32.000000</td>\n",
       "      <td>32.000000</td>\n",
       "      <td>30.000000</td>\n",
       "    </tr>\n",
       "    <tr>\n",
       "      <th>mean</th>\n",
       "      <td>68.437500</td>\n",
       "      <td>103.500000</td>\n",
       "      <td>128.500000</td>\n",
       "      <td>304.680000</td>\n",
       "    </tr>\n",
       "    <tr>\n",
       "      <th>std</th>\n",
       "      <td>70.039591</td>\n",
       "      <td>7.832933</td>\n",
       "      <td>12.998759</td>\n",
       "      <td>66.003779</td>\n",
       "    </tr>\n",
       "    <tr>\n",
       "      <th>min</th>\n",
       "      <td>30.000000</td>\n",
       "      <td>90.000000</td>\n",
       "      <td>101.000000</td>\n",
       "      <td>195.100000</td>\n",
       "    </tr>\n",
       "    <tr>\n",
       "      <th>25%</th>\n",
       "      <td>60.000000</td>\n",
       "      <td>100.000000</td>\n",
       "      <td>120.000000</td>\n",
       "      <td>250.700000</td>\n",
       "    </tr>\n",
       "    <tr>\n",
       "      <th>50%</th>\n",
       "      <td>60.000000</td>\n",
       "      <td>102.500000</td>\n",
       "      <td>127.500000</td>\n",
       "      <td>291.200000</td>\n",
       "    </tr>\n",
       "    <tr>\n",
       "      <th>75%</th>\n",
       "      <td>60.000000</td>\n",
       "      <td>106.500000</td>\n",
       "      <td>132.250000</td>\n",
       "      <td>343.975000</td>\n",
       "    </tr>\n",
       "    <tr>\n",
       "      <th>max</th>\n",
       "      <td>450.000000</td>\n",
       "      <td>130.000000</td>\n",
       "      <td>175.000000</td>\n",
       "      <td>479.000000</td>\n",
       "    </tr>\n",
       "  </tbody>\n",
       "</table>\n",
       "</div>"
      ],
      "text/plain": [
       "         Duration       Pulse    Maxpulse    Calories\n",
       "count   32.000000   32.000000   32.000000   30.000000\n",
       "mean    68.437500  103.500000  128.500000  304.680000\n",
       "std     70.039591    7.832933   12.998759   66.003779\n",
       "min     30.000000   90.000000  101.000000  195.100000\n",
       "25%     60.000000  100.000000  120.000000  250.700000\n",
       "50%     60.000000  102.500000  127.500000  291.200000\n",
       "75%     60.000000  106.500000  132.250000  343.975000\n",
       "max    450.000000  130.000000  175.000000  479.000000"
      ]
     },
     "execution_count": 14,
     "metadata": {},
     "output_type": "execute_result"
    }
   ],
   "source": [
    "df1.describe()"
   ]
  },
  {
   "cell_type": "code",
   "execution_count": 15,
   "id": "e40015f3",
   "metadata": {
    "execution": {
     "iopub.execute_input": "2025-03-21T06:34:03.106314Z",
     "iopub.status.busy": "2025-03-21T06:34:03.105810Z",
     "iopub.status.idle": "2025-03-21T06:34:03.114604Z",
     "shell.execute_reply": "2025-03-21T06:34:03.113490Z"
    },
    "papermill": {
     "duration": 0.020929,
     "end_time": "2025-03-21T06:34:03.116354",
     "exception": false,
     "start_time": "2025-03-21T06:34:03.095425",
     "status": "completed"
    },
    "tags": []
   },
   "outputs": [
    {
     "data": {
      "text/plain": [
       "Duration    32\n",
       "Date        31\n",
       "Pulse       32\n",
       "Maxpulse    32\n",
       "Calories    30\n",
       "dtype: int64"
      ]
     },
     "execution_count": 15,
     "metadata": {},
     "output_type": "execute_result"
    }
   ],
   "source": [
    "df1.count()"
   ]
  },
  {
   "cell_type": "code",
   "execution_count": 16,
   "id": "f96743ed",
   "metadata": {
    "execution": {
     "iopub.execute_input": "2025-03-21T06:34:03.137160Z",
     "iopub.status.busy": "2025-03-21T06:34:03.136667Z",
     "iopub.status.idle": "2025-03-21T06:34:03.148463Z",
     "shell.execute_reply": "2025-03-21T06:34:03.147291Z"
    },
    "papermill": {
     "duration": 0.024278,
     "end_time": "2025-03-21T06:34:03.150284",
     "exception": false,
     "start_time": "2025-03-21T06:34:03.126006",
     "status": "completed"
    },
    "tags": []
   },
   "outputs": [
    {
     "data": {
      "text/html": [
       "<div>\n",
       "<style scoped>\n",
       "    .dataframe tbody tr th:only-of-type {\n",
       "        vertical-align: middle;\n",
       "    }\n",
       "\n",
       "    .dataframe tbody tr th {\n",
       "        vertical-align: top;\n",
       "    }\n",
       "\n",
       "    .dataframe thead th {\n",
       "        text-align: right;\n",
       "    }\n",
       "</style>\n",
       "<table border=\"1\" class=\"dataframe\">\n",
       "  <thead>\n",
       "    <tr style=\"text-align: right;\">\n",
       "      <th></th>\n",
       "      <th>Date</th>\n",
       "    </tr>\n",
       "  </thead>\n",
       "  <tbody>\n",
       "    <tr>\n",
       "      <th>count</th>\n",
       "      <td>31</td>\n",
       "    </tr>\n",
       "    <tr>\n",
       "      <th>unique</th>\n",
       "      <td>30</td>\n",
       "    </tr>\n",
       "    <tr>\n",
       "      <th>top</th>\n",
       "      <td>'2020/12/12'</td>\n",
       "    </tr>\n",
       "    <tr>\n",
       "      <th>freq</th>\n",
       "      <td>2</td>\n",
       "    </tr>\n",
       "  </tbody>\n",
       "</table>\n",
       "</div>"
      ],
      "text/plain": [
       "                Date\n",
       "count             31\n",
       "unique            30\n",
       "top     '2020/12/12'\n",
       "freq               2"
      ]
     },
     "execution_count": 16,
     "metadata": {},
     "output_type": "execute_result"
    }
   ],
   "source": [
    "df1.describe(include = \"object\")"
   ]
  },
  {
   "cell_type": "code",
   "execution_count": 17,
   "id": "519ea0e6",
   "metadata": {
    "execution": {
     "iopub.execute_input": "2025-03-21T06:34:03.170947Z",
     "iopub.status.busy": "2025-03-21T06:34:03.170498Z",
     "iopub.status.idle": "2025-03-21T06:34:03.178636Z",
     "shell.execute_reply": "2025-03-21T06:34:03.177501Z"
    },
    "papermill": {
     "duration": 0.020921,
     "end_time": "2025-03-21T06:34:03.180501",
     "exception": false,
     "start_time": "2025-03-21T06:34:03.159580",
     "status": "completed"
    },
    "tags": []
   },
   "outputs": [
    {
     "data": {
      "text/plain": [
       "Duration    0\n",
       "Date        1\n",
       "Pulse       0\n",
       "Maxpulse    0\n",
       "Calories    2\n",
       "dtype: int64"
      ]
     },
     "execution_count": 17,
     "metadata": {},
     "output_type": "execute_result"
    }
   ],
   "source": [
    "df1.isna().sum()"
   ]
  },
  {
   "cell_type": "code",
   "execution_count": 18,
   "id": "905af5ad",
   "metadata": {
    "execution": {
     "iopub.execute_input": "2025-03-21T06:34:03.201652Z",
     "iopub.status.busy": "2025-03-21T06:34:03.201139Z",
     "iopub.status.idle": "2025-03-21T06:34:03.206783Z",
     "shell.execute_reply": "2025-03-21T06:34:03.205721Z"
    },
    "papermill": {
     "duration": 0.018476,
     "end_time": "2025-03-21T06:34:03.208475",
     "exception": false,
     "start_time": "2025-03-21T06:34:03.189999",
     "status": "completed"
    },
    "tags": []
   },
   "outputs": [],
   "source": [
    "df1[\"Date\"] = df1[\"Date\"].fillna(\"2020/12/22\")"
   ]
  },
  {
   "cell_type": "code",
   "execution_count": 19,
   "id": "2b90e16d",
   "metadata": {
    "execution": {
     "iopub.execute_input": "2025-03-21T06:34:03.228721Z",
     "iopub.status.busy": "2025-03-21T06:34:03.228275Z",
     "iopub.status.idle": "2025-03-21T06:34:03.234035Z",
     "shell.execute_reply": "2025-03-21T06:34:03.232769Z"
    },
    "papermill": {
     "duration": 0.01833,
     "end_time": "2025-03-21T06:34:03.236076",
     "exception": false,
     "start_time": "2025-03-21T06:34:03.217746",
     "status": "completed"
    },
    "tags": []
   },
   "outputs": [],
   "source": [
    "df1[\"Date\"] = df1[\"Date\"].replace(\"26122026\", \"26/12/2026\")"
   ]
  },
  {
   "cell_type": "code",
   "execution_count": 20,
   "id": "845638c9",
   "metadata": {
    "execution": {
     "iopub.execute_input": "2025-03-21T06:34:03.256164Z",
     "iopub.status.busy": "2025-03-21T06:34:03.255717Z",
     "iopub.status.idle": "2025-03-21T06:34:03.268056Z",
     "shell.execute_reply": "2025-03-21T06:34:03.266605Z"
    },
    "papermill": {
     "duration": 0.024697,
     "end_time": "2025-03-21T06:34:03.270196",
     "exception": false,
     "start_time": "2025-03-21T06:34:03.245499",
     "status": "completed"
    },
    "tags": []
   },
   "outputs": [
    {
     "data": {
      "text/html": [
       "<div>\n",
       "<style scoped>\n",
       "    .dataframe tbody tr th:only-of-type {\n",
       "        vertical-align: middle;\n",
       "    }\n",
       "\n",
       "    .dataframe tbody tr th {\n",
       "        vertical-align: top;\n",
       "    }\n",
       "\n",
       "    .dataframe thead th {\n",
       "        text-align: right;\n",
       "    }\n",
       "</style>\n",
       "<table border=\"1\" class=\"dataframe\">\n",
       "  <thead>\n",
       "    <tr style=\"text-align: right;\">\n",
       "      <th></th>\n",
       "      <th>Duration</th>\n",
       "      <th>Date</th>\n",
       "      <th>Pulse</th>\n",
       "      <th>Maxpulse</th>\n",
       "      <th>Calories</th>\n",
       "    </tr>\n",
       "  </thead>\n",
       "  <tbody>\n",
       "    <tr>\n",
       "      <th>0</th>\n",
       "      <td>60</td>\n",
       "      <td>'2020/12/01'</td>\n",
       "      <td>110</td>\n",
       "      <td>130</td>\n",
       "      <td>409.1</td>\n",
       "    </tr>\n",
       "    <tr>\n",
       "      <th>1</th>\n",
       "      <td>60</td>\n",
       "      <td>'2020/12/02'</td>\n",
       "      <td>117</td>\n",
       "      <td>145</td>\n",
       "      <td>479.0</td>\n",
       "    </tr>\n",
       "    <tr>\n",
       "      <th>2</th>\n",
       "      <td>60</td>\n",
       "      <td>'2020/12/03'</td>\n",
       "      <td>103</td>\n",
       "      <td>135</td>\n",
       "      <td>340.0</td>\n",
       "    </tr>\n",
       "    <tr>\n",
       "      <th>3</th>\n",
       "      <td>45</td>\n",
       "      <td>'2020/12/04'</td>\n",
       "      <td>109</td>\n",
       "      <td>175</td>\n",
       "      <td>282.4</td>\n",
       "    </tr>\n",
       "    <tr>\n",
       "      <th>4</th>\n",
       "      <td>45</td>\n",
       "      <td>'2020/12/05'</td>\n",
       "      <td>117</td>\n",
       "      <td>148</td>\n",
       "      <td>406.0</td>\n",
       "    </tr>\n",
       "    <tr>\n",
       "      <th>5</th>\n",
       "      <td>60</td>\n",
       "      <td>'2020/12/06'</td>\n",
       "      <td>102</td>\n",
       "      <td>127</td>\n",
       "      <td>300.0</td>\n",
       "    </tr>\n",
       "    <tr>\n",
       "      <th>6</th>\n",
       "      <td>60</td>\n",
       "      <td>'2020/12/07'</td>\n",
       "      <td>110</td>\n",
       "      <td>136</td>\n",
       "      <td>374.0</td>\n",
       "    </tr>\n",
       "    <tr>\n",
       "      <th>7</th>\n",
       "      <td>450</td>\n",
       "      <td>'2020/12/08'</td>\n",
       "      <td>104</td>\n",
       "      <td>134</td>\n",
       "      <td>253.3</td>\n",
       "    </tr>\n",
       "    <tr>\n",
       "      <th>8</th>\n",
       "      <td>30</td>\n",
       "      <td>'2020/12/09'</td>\n",
       "      <td>109</td>\n",
       "      <td>133</td>\n",
       "      <td>195.1</td>\n",
       "    </tr>\n",
       "    <tr>\n",
       "      <th>9</th>\n",
       "      <td>60</td>\n",
       "      <td>'2020/12/10'</td>\n",
       "      <td>98</td>\n",
       "      <td>124</td>\n",
       "      <td>269.0</td>\n",
       "    </tr>\n",
       "  </tbody>\n",
       "</table>\n",
       "</div>"
      ],
      "text/plain": [
       "   Duration          Date  Pulse  Maxpulse  Calories\n",
       "0        60  '2020/12/01'    110       130     409.1\n",
       "1        60  '2020/12/02'    117       145     479.0\n",
       "2        60  '2020/12/03'    103       135     340.0\n",
       "3        45  '2020/12/04'    109       175     282.4\n",
       "4        45  '2020/12/05'    117       148     406.0\n",
       "5        60  '2020/12/06'    102       127     300.0\n",
       "6        60  '2020/12/07'    110       136     374.0\n",
       "7       450  '2020/12/08'    104       134     253.3\n",
       "8        30  '2020/12/09'    109       133     195.1\n",
       "9        60  '2020/12/10'     98       124     269.0"
      ]
     },
     "execution_count": 20,
     "metadata": {},
     "output_type": "execute_result"
    }
   ],
   "source": [
    "df1.head(10)"
   ]
  },
  {
   "cell_type": "code",
   "execution_count": 21,
   "id": "a298de96",
   "metadata": {
    "execution": {
     "iopub.execute_input": "2025-03-21T06:34:03.291607Z",
     "iopub.status.busy": "2025-03-21T06:34:03.290956Z",
     "iopub.status.idle": "2025-03-21T06:34:03.300418Z",
     "shell.execute_reply": "2025-03-21T06:34:03.299076Z"
    },
    "papermill": {
     "duration": 0.022927,
     "end_time": "2025-03-21T06:34:03.302694",
     "exception": false,
     "start_time": "2025-03-21T06:34:03.279767",
     "status": "completed"
    },
    "tags": []
   },
   "outputs": [
    {
     "data": {
      "text/plain": [
       "Duration      int64\n",
       "Date         object\n",
       "Pulse         int64\n",
       "Maxpulse      int64\n",
       "Calories    float64\n",
       "dtype: object"
      ]
     },
     "execution_count": 21,
     "metadata": {},
     "output_type": "execute_result"
    }
   ],
   "source": [
    "df1.dtypes"
   ]
  },
  {
   "cell_type": "code",
   "execution_count": 22,
   "id": "937ded5a",
   "metadata": {
    "execution": {
     "iopub.execute_input": "2025-03-21T06:34:03.324569Z",
     "iopub.status.busy": "2025-03-21T06:34:03.324137Z",
     "iopub.status.idle": "2025-03-21T06:34:03.330428Z",
     "shell.execute_reply": "2025-03-21T06:34:03.329250Z"
    },
    "papermill": {
     "duration": 0.019344,
     "end_time": "2025-03-21T06:34:03.332372",
     "exception": false,
     "start_time": "2025-03-21T06:34:03.313028",
     "status": "completed"
    },
    "tags": []
   },
   "outputs": [],
   "source": [
    "df1[\"Calories\"] =df1[\"Calories\"].fillna(df1[\"Calories\"].mean())"
   ]
  },
  {
   "cell_type": "code",
   "execution_count": 23,
   "id": "4fcc3d57",
   "metadata": {
    "execution": {
     "iopub.execute_input": "2025-03-21T06:34:03.353060Z",
     "iopub.status.busy": "2025-03-21T06:34:03.352668Z",
     "iopub.status.idle": "2025-03-21T06:34:03.360905Z",
     "shell.execute_reply": "2025-03-21T06:34:03.359843Z"
    },
    "papermill": {
     "duration": 0.020477,
     "end_time": "2025-03-21T06:34:03.362591",
     "exception": false,
     "start_time": "2025-03-21T06:34:03.342114",
     "status": "completed"
    },
    "tags": []
   },
   "outputs": [
    {
     "data": {
      "text/plain": [
       "0     409.1\n",
       "1     479.0\n",
       "2     340.0\n",
       "3     282.4\n",
       "4     406.0\n",
       "5     300.0\n",
       "6     374.0\n",
       "7     253.3\n",
       "8     195.1\n",
       "9     269.0\n",
       "10    329.3\n",
       "11    250.7\n",
       "12    250.7\n",
       "Name: Calories, dtype: float64"
      ]
     },
     "execution_count": 23,
     "metadata": {},
     "output_type": "execute_result"
    }
   ],
   "source": [
    "df1[\"Calories\"].head(13)"
   ]
  },
  {
   "cell_type": "code",
   "execution_count": 24,
   "id": "36f77994",
   "metadata": {
    "execution": {
     "iopub.execute_input": "2025-03-21T06:34:03.384472Z",
     "iopub.status.busy": "2025-03-21T06:34:03.384019Z",
     "iopub.status.idle": "2025-03-21T06:34:03.392614Z",
     "shell.execute_reply": "2025-03-21T06:34:03.391568Z"
    },
    "papermill": {
     "duration": 0.021682,
     "end_time": "2025-03-21T06:34:03.394452",
     "exception": false,
     "start_time": "2025-03-21T06:34:03.372770",
     "status": "completed"
    },
    "tags": []
   },
   "outputs": [
    {
     "data": {
      "text/plain": [
       "Duration    0\n",
       "Date        0\n",
       "Pulse       0\n",
       "Maxpulse    0\n",
       "Calories    0\n",
       "dtype: int64"
      ]
     },
     "execution_count": 24,
     "metadata": {},
     "output_type": "execute_result"
    }
   ],
   "source": [
    "df1.isna().sum()"
   ]
  },
  {
   "cell_type": "code",
   "execution_count": 25,
   "id": "b2da3145",
   "metadata": {
    "execution": {
     "iopub.execute_input": "2025-03-21T06:34:03.418125Z",
     "iopub.status.busy": "2025-03-21T06:34:03.417657Z",
     "iopub.status.idle": "2025-03-21T06:34:03.430055Z",
     "shell.execute_reply": "2025-03-21T06:34:03.428621Z"
    },
    "papermill": {
     "duration": 0.025985,
     "end_time": "2025-03-21T06:34:03.432293",
     "exception": false,
     "start_time": "2025-03-21T06:34:03.406308",
     "status": "completed"
    },
    "tags": []
   },
   "outputs": [
    {
     "name": "stdout",
     "output_type": "stream",
     "text": [
      "<class 'pandas.core.frame.DataFrame'>\n",
      "RangeIndex: 32 entries, 0 to 31\n",
      "Data columns (total 5 columns):\n",
      " #   Column    Non-Null Count  Dtype  \n",
      "---  ------    --------------  -----  \n",
      " 0   Duration  32 non-null     int64  \n",
      " 1   Date      32 non-null     object \n",
      " 2   Pulse     32 non-null     int64  \n",
      " 3   Maxpulse  32 non-null     int64  \n",
      " 4   Calories  32 non-null     float64\n",
      "dtypes: float64(1), int64(3), object(1)\n",
      "memory usage: 1.4+ KB\n"
     ]
    }
   ],
   "source": [
    "df1.info()"
   ]
  },
  {
   "cell_type": "code",
   "execution_count": 26,
   "id": "ce3e7f44",
   "metadata": {
    "execution": {
     "iopub.execute_input": "2025-03-21T06:34:03.454824Z",
     "iopub.status.busy": "2025-03-21T06:34:03.454387Z",
     "iopub.status.idle": "2025-03-21T06:34:03.474330Z",
     "shell.execute_reply": "2025-03-21T06:34:03.473210Z"
    },
    "papermill": {
     "duration": 0.033627,
     "end_time": "2025-03-21T06:34:03.475993",
     "exception": false,
     "start_time": "2025-03-21T06:34:03.442366",
     "status": "completed"
    },
    "tags": []
   },
   "outputs": [
    {
     "data": {
      "text/html": [
       "<div>\n",
       "<style scoped>\n",
       "    .dataframe tbody tr th:only-of-type {\n",
       "        vertical-align: middle;\n",
       "    }\n",
       "\n",
       "    .dataframe tbody tr th {\n",
       "        vertical-align: top;\n",
       "    }\n",
       "\n",
       "    .dataframe thead th {\n",
       "        text-align: right;\n",
       "    }\n",
       "</style>\n",
       "<table border=\"1\" class=\"dataframe\">\n",
       "  <thead>\n",
       "    <tr style=\"text-align: right;\">\n",
       "      <th></th>\n",
       "      <th>Duration</th>\n",
       "      <th>Pulse</th>\n",
       "      <th>Maxpulse</th>\n",
       "      <th>Calories</th>\n",
       "    </tr>\n",
       "  </thead>\n",
       "  <tbody>\n",
       "    <tr>\n",
       "      <th>count</th>\n",
       "      <td>32.000000</td>\n",
       "      <td>32.000000</td>\n",
       "      <td>32.000000</td>\n",
       "      <td>32.000000</td>\n",
       "    </tr>\n",
       "    <tr>\n",
       "      <th>mean</th>\n",
       "      <td>68.437500</td>\n",
       "      <td>103.500000</td>\n",
       "      <td>128.500000</td>\n",
       "      <td>304.680000</td>\n",
       "    </tr>\n",
       "    <tr>\n",
       "      <th>std</th>\n",
       "      <td>70.039591</td>\n",
       "      <td>7.832933</td>\n",
       "      <td>12.998759</td>\n",
       "      <td>63.839129</td>\n",
       "    </tr>\n",
       "    <tr>\n",
       "      <th>min</th>\n",
       "      <td>30.000000</td>\n",
       "      <td>90.000000</td>\n",
       "      <td>101.000000</td>\n",
       "      <td>195.100000</td>\n",
       "    </tr>\n",
       "    <tr>\n",
       "      <th>25%</th>\n",
       "      <td>60.000000</td>\n",
       "      <td>100.000000</td>\n",
       "      <td>120.000000</td>\n",
       "      <td>250.700000</td>\n",
       "    </tr>\n",
       "    <tr>\n",
       "      <th>50%</th>\n",
       "      <td>60.000000</td>\n",
       "      <td>102.500000</td>\n",
       "      <td>127.500000</td>\n",
       "      <td>300.000000</td>\n",
       "    </tr>\n",
       "    <tr>\n",
       "      <th>75%</th>\n",
       "      <td>60.000000</td>\n",
       "      <td>106.500000</td>\n",
       "      <td>132.250000</td>\n",
       "      <td>341.325000</td>\n",
       "    </tr>\n",
       "    <tr>\n",
       "      <th>max</th>\n",
       "      <td>450.000000</td>\n",
       "      <td>130.000000</td>\n",
       "      <td>175.000000</td>\n",
       "      <td>479.000000</td>\n",
       "    </tr>\n",
       "  </tbody>\n",
       "</table>\n",
       "</div>"
      ],
      "text/plain": [
       "         Duration       Pulse    Maxpulse    Calories\n",
       "count   32.000000   32.000000   32.000000   32.000000\n",
       "mean    68.437500  103.500000  128.500000  304.680000\n",
       "std     70.039591    7.832933   12.998759   63.839129\n",
       "min     30.000000   90.000000  101.000000  195.100000\n",
       "25%     60.000000  100.000000  120.000000  250.700000\n",
       "50%     60.000000  102.500000  127.500000  300.000000\n",
       "75%     60.000000  106.500000  132.250000  341.325000\n",
       "max    450.000000  130.000000  175.000000  479.000000"
      ]
     },
     "execution_count": 26,
     "metadata": {},
     "output_type": "execute_result"
    }
   ],
   "source": [
    "df1.describe()"
   ]
  },
  {
   "cell_type": "code",
   "execution_count": 27,
   "id": "472d5df0",
   "metadata": {
    "execution": {
     "iopub.execute_input": "2025-03-21T06:34:03.497641Z",
     "iopub.status.busy": "2025-03-21T06:34:03.497164Z",
     "iopub.status.idle": "2025-03-21T06:34:03.505622Z",
     "shell.execute_reply": "2025-03-21T06:34:03.504447Z"
    },
    "papermill": {
     "duration": 0.02112,
     "end_time": "2025-03-21T06:34:03.507313",
     "exception": false,
     "start_time": "2025-03-21T06:34:03.486193",
     "status": "completed"
    },
    "tags": []
   },
   "outputs": [
    {
     "data": {
      "text/plain": [
       "Duration    32\n",
       "Date        32\n",
       "Pulse       32\n",
       "Maxpulse    32\n",
       "Calories    32\n",
       "dtype: int64"
      ]
     },
     "execution_count": 27,
     "metadata": {},
     "output_type": "execute_result"
    }
   ],
   "source": [
    "df1.notna().sum()"
   ]
  },
  {
   "cell_type": "code",
   "execution_count": 28,
   "id": "a29707f9",
   "metadata": {
    "execution": {
     "iopub.execute_input": "2025-03-21T06:34:03.529534Z",
     "iopub.status.busy": "2025-03-21T06:34:03.529003Z",
     "iopub.status.idle": "2025-03-21T06:34:03.544405Z",
     "shell.execute_reply": "2025-03-21T06:34:03.543307Z"
    },
    "papermill": {
     "duration": 0.028826,
     "end_time": "2025-03-21T06:34:03.546492",
     "exception": false,
     "start_time": "2025-03-21T06:34:03.517666",
     "status": "completed"
    },
    "tags": []
   },
   "outputs": [
    {
     "data": {
      "text/html": [
       "<div>\n",
       "<style scoped>\n",
       "    .dataframe tbody tr th:only-of-type {\n",
       "        vertical-align: middle;\n",
       "    }\n",
       "\n",
       "    .dataframe tbody tr th {\n",
       "        vertical-align: top;\n",
       "    }\n",
       "\n",
       "    .dataframe thead th {\n",
       "        text-align: right;\n",
       "    }\n",
       "</style>\n",
       "<table border=\"1\" class=\"dataframe\">\n",
       "  <thead>\n",
       "    <tr style=\"text-align: right;\">\n",
       "      <th></th>\n",
       "      <th>Duration</th>\n",
       "      <th>Date</th>\n",
       "      <th>Pulse</th>\n",
       "      <th>Maxpulse</th>\n",
       "      <th>Calories</th>\n",
       "    </tr>\n",
       "  </thead>\n",
       "  <tbody>\n",
       "    <tr>\n",
       "      <th>12</th>\n",
       "      <td>60</td>\n",
       "      <td>'2020/12/12'</td>\n",
       "      <td>100</td>\n",
       "      <td>120</td>\n",
       "      <td>250.7</td>\n",
       "    </tr>\n",
       "  </tbody>\n",
       "</table>\n",
       "</div>"
      ],
      "text/plain": [
       "    Duration          Date  Pulse  Maxpulse  Calories\n",
       "12        60  '2020/12/12'    100       120     250.7"
      ]
     },
     "execution_count": 28,
     "metadata": {},
     "output_type": "execute_result"
    }
   ],
   "source": [
    "df1[df1.duplicated()]"
   ]
  },
  {
   "cell_type": "code",
   "execution_count": 29,
   "id": "e4d33452",
   "metadata": {
    "execution": {
     "iopub.execute_input": "2025-03-21T06:34:03.569222Z",
     "iopub.status.busy": "2025-03-21T06:34:03.568758Z",
     "iopub.status.idle": "2025-03-21T06:34:03.574697Z",
     "shell.execute_reply": "2025-03-21T06:34:03.573222Z"
    },
    "papermill": {
     "duration": 0.019404,
     "end_time": "2025-03-21T06:34:03.576689",
     "exception": false,
     "start_time": "2025-03-21T06:34:03.557285",
     "status": "completed"
    },
    "tags": []
   },
   "outputs": [],
   "source": [
    "df_loc = df1.loc[22, 'Date'] = '2020/12/21'"
   ]
  },
  {
   "cell_type": "code",
   "execution_count": 30,
   "id": "a6c5f3dc",
   "metadata": {
    "execution": {
     "iopub.execute_input": "2025-03-21T06:34:03.599626Z",
     "iopub.status.busy": "2025-03-21T06:34:03.599168Z",
     "iopub.status.idle": "2025-03-21T06:34:03.605459Z",
     "shell.execute_reply": "2025-03-21T06:34:03.604409Z"
    },
    "papermill": {
     "duration": 0.020177,
     "end_time": "2025-03-21T06:34:03.607149",
     "exception": false,
     "start_time": "2025-03-21T06:34:03.586972",
     "status": "completed"
    },
    "tags": []
   },
   "outputs": [
    {
     "data": {
      "text/plain": [
       "'2020/12/21'"
      ]
     },
     "execution_count": 30,
     "metadata": {},
     "output_type": "execute_result"
    }
   ],
   "source": [
    "df_loc"
   ]
  },
  {
   "cell_type": "code",
   "execution_count": 31,
   "id": "59349947",
   "metadata": {
    "execution": {
     "iopub.execute_input": "2025-03-21T06:34:03.629670Z",
     "iopub.status.busy": "2025-03-21T06:34:03.629200Z",
     "iopub.status.idle": "2025-03-21T06:34:03.636652Z",
     "shell.execute_reply": "2025-03-21T06:34:03.635440Z"
    },
    "papermill": {
     "duration": 0.021032,
     "end_time": "2025-03-21T06:34:03.638604",
     "exception": false,
     "start_time": "2025-03-21T06:34:03.617572",
     "status": "completed"
    },
    "tags": []
   },
   "outputs": [],
   "source": [
    "df_duplicates = df1.drop_duplicates()"
   ]
  },
  {
   "cell_type": "code",
   "execution_count": 32,
   "id": "e9f0551d",
   "metadata": {
    "execution": {
     "iopub.execute_input": "2025-03-21T06:34:03.660880Z",
     "iopub.status.busy": "2025-03-21T06:34:03.660408Z",
     "iopub.status.idle": "2025-03-21T06:34:03.672241Z",
     "shell.execute_reply": "2025-03-21T06:34:03.670973Z"
    },
    "papermill": {
     "duration": 0.025116,
     "end_time": "2025-03-21T06:34:03.674124",
     "exception": false,
     "start_time": "2025-03-21T06:34:03.649008",
     "status": "completed"
    },
    "tags": []
   },
   "outputs": [
    {
     "data": {
      "text/html": [
       "<div>\n",
       "<style scoped>\n",
       "    .dataframe tbody tr th:only-of-type {\n",
       "        vertical-align: middle;\n",
       "    }\n",
       "\n",
       "    .dataframe tbody tr th {\n",
       "        vertical-align: top;\n",
       "    }\n",
       "\n",
       "    .dataframe thead th {\n",
       "        text-align: right;\n",
       "    }\n",
       "</style>\n",
       "<table border=\"1\" class=\"dataframe\">\n",
       "  <thead>\n",
       "    <tr style=\"text-align: right;\">\n",
       "      <th></th>\n",
       "      <th>Duration</th>\n",
       "      <th>Date</th>\n",
       "      <th>Pulse</th>\n",
       "      <th>Maxpulse</th>\n",
       "      <th>Calories</th>\n",
       "    </tr>\n",
       "  </thead>\n",
       "  <tbody>\n",
       "    <tr>\n",
       "      <th>0</th>\n",
       "      <td>60</td>\n",
       "      <td>'2020/12/01'</td>\n",
       "      <td>110</td>\n",
       "      <td>130</td>\n",
       "      <td>409.1</td>\n",
       "    </tr>\n",
       "    <tr>\n",
       "      <th>1</th>\n",
       "      <td>60</td>\n",
       "      <td>'2020/12/02'</td>\n",
       "      <td>117</td>\n",
       "      <td>145</td>\n",
       "      <td>479.0</td>\n",
       "    </tr>\n",
       "    <tr>\n",
       "      <th>2</th>\n",
       "      <td>60</td>\n",
       "      <td>'2020/12/03'</td>\n",
       "      <td>103</td>\n",
       "      <td>135</td>\n",
       "      <td>340.0</td>\n",
       "    </tr>\n",
       "    <tr>\n",
       "      <th>3</th>\n",
       "      <td>45</td>\n",
       "      <td>'2020/12/04'</td>\n",
       "      <td>109</td>\n",
       "      <td>175</td>\n",
       "      <td>282.4</td>\n",
       "    </tr>\n",
       "    <tr>\n",
       "      <th>4</th>\n",
       "      <td>45</td>\n",
       "      <td>'2020/12/05'</td>\n",
       "      <td>117</td>\n",
       "      <td>148</td>\n",
       "      <td>406.0</td>\n",
       "    </tr>\n",
       "  </tbody>\n",
       "</table>\n",
       "</div>"
      ],
      "text/plain": [
       "   Duration          Date  Pulse  Maxpulse  Calories\n",
       "0        60  '2020/12/01'    110       130     409.1\n",
       "1        60  '2020/12/02'    117       145     479.0\n",
       "2        60  '2020/12/03'    103       135     340.0\n",
       "3        45  '2020/12/04'    109       175     282.4\n",
       "4        45  '2020/12/05'    117       148     406.0"
      ]
     },
     "execution_count": 32,
     "metadata": {},
     "output_type": "execute_result"
    }
   ],
   "source": [
    "df_duplicates.head()"
   ]
  },
  {
   "cell_type": "code",
   "execution_count": 33,
   "id": "a2f7feb7",
   "metadata": {
    "execution": {
     "iopub.execute_input": "2025-03-21T06:34:03.697256Z",
     "iopub.status.busy": "2025-03-21T06:34:03.696735Z",
     "iopub.status.idle": "2025-03-21T06:34:03.705571Z",
     "shell.execute_reply": "2025-03-21T06:34:03.704453Z"
    },
    "papermill": {
     "duration": 0.022184,
     "end_time": "2025-03-21T06:34:03.707297",
     "exception": false,
     "start_time": "2025-03-21T06:34:03.685113",
     "status": "completed"
    },
    "tags": []
   },
   "outputs": [
    {
     "data": {
      "text/plain": [
       "Duration    32\n",
       "Date        32\n",
       "Pulse       32\n",
       "Maxpulse    32\n",
       "Calories    32\n",
       "dtype: int64"
      ]
     },
     "execution_count": 33,
     "metadata": {},
     "output_type": "execute_result"
    }
   ],
   "source": [
    "df1.count()"
   ]
  },
  {
   "cell_type": "code",
   "execution_count": 34,
   "id": "0214e168",
   "metadata": {
    "execution": {
     "iopub.execute_input": "2025-03-21T06:34:03.730072Z",
     "iopub.status.busy": "2025-03-21T06:34:03.729637Z",
     "iopub.status.idle": "2025-03-21T06:34:03.734187Z",
     "shell.execute_reply": "2025-03-21T06:34:03.732963Z"
    },
    "papermill": {
     "duration": 0.018208,
     "end_time": "2025-03-21T06:34:03.736080",
     "exception": false,
     "start_time": "2025-03-21T06:34:03.717872",
     "status": "completed"
    },
    "tags": []
   },
   "outputs": [],
   "source": [
    "import matplotlib.pyplot as plt"
   ]
  },
  {
   "cell_type": "code",
   "execution_count": 35,
   "id": "93d6ba6b",
   "metadata": {
    "execution": {
     "iopub.execute_input": "2025-03-21T06:34:03.758870Z",
     "iopub.status.busy": "2025-03-21T06:34:03.758449Z",
     "iopub.status.idle": "2025-03-21T06:34:04.297547Z",
     "shell.execute_reply": "2025-03-21T06:34:04.296231Z"
    },
    "papermill": {
     "duration": 0.55278,
     "end_time": "2025-03-21T06:34:04.299656",
     "exception": false,
     "start_time": "2025-03-21T06:34:03.746876",
     "status": "completed"
    },
    "tags": []
   },
   "outputs": [
    {
     "data": {
      "text/plain": [
       "Text(0, 0.5, 'Pulse')"
      ]
     },
     "execution_count": 35,
     "metadata": {},
     "output_type": "execute_result"
    },
    {
     "data": {
      "image/png": "[encoded data removed]",
      "text/plain": [
       "<Figure size 640x480 with 1 Axes>"
      ]
     },
     "metadata": {},
     "output_type": "display_data"
    }
   ],
   "source": [
    "\n",
    "plt.bar(df1[\"Date\"], df1[\"Pulse\"], color = 'Pink')\n",
    "plt.title(\"Pulse According to Date\")\n",
    "plt.xlabel(\"Date\")\n",
    "plt.ylabel(\"Pulse\")"
   ]
  },
  {
   "cell_type": "code",
   "execution_count": 36,
   "id": "1337e681",
   "metadata": {
    "execution": {
     "iopub.execute_input": "2025-03-21T06:34:04.324123Z",
     "iopub.status.busy": "2025-03-21T06:34:04.323674Z",
     "iopub.status.idle": "2025-03-21T06:34:04.590471Z",
     "shell.execute_reply": "2025-03-21T06:34:04.589227Z"
    },
    "papermill": {
     "duration": 0.28159,
     "end_time": "2025-03-21T06:34:04.592654",
     "exception": false,
     "start_time": "2025-03-21T06:34:04.311064",
     "status": "completed"
    },
    "tags": []
   },
   "outputs": [
    {
     "data": {
      "text/plain": [
       "Text(0, 0.5, 'Pulse')"
      ]
     },
     "execution_count": 36,
     "metadata": {},
     "output_type": "execute_result"
    },
    {
     "data": {
      "image/png": "[encoded data removed]",
      "text/plain": [
       "<Figure size 640x480 with 1 Axes>"
      ]
     },
     "metadata": {},
     "output_type": "display_data"
    }
   ],
   "source": [
    "plt.bar(df1['Duration'], df1['Pulse'], color = \"Green\")\n",
    "plt.title(\"Calories by durations\")\n",
    "plt.xlabel(\"Date\")\n",
    "plt.ylabel(\"Pulse\")\n"
   ]
  },
  {
   "cell_type": "code",
   "execution_count": 37,
   "id": "5e582ed0",
   "metadata": {
    "execution": {
     "iopub.execute_input": "2025-03-21T06:34:04.618069Z",
     "iopub.status.busy": "2025-03-21T06:34:04.617636Z",
     "iopub.status.idle": "2025-03-21T06:34:05.028449Z",
     "shell.execute_reply": "2025-03-21T06:34:05.027244Z"
    },
    "papermill": {
     "duration": 0.426039,
     "end_time": "2025-03-21T06:34:05.030793",
     "exception": false,
     "start_time": "2025-03-21T06:34:04.604754",
     "status": "completed"
    },
    "tags": []
   },
   "outputs": [
    {
     "data": {
      "image/png": "[encoded data removed]",
      "text/plain": [
       "<Figure size 640x480 with 1 Axes>"
      ]
     },
     "metadata": {},
     "output_type": "display_data"
    }
   ],
   "source": [
    "plt.plot(df1[\"Date\"], df1[\"Calories\"], color = \"Purple\", marker = \"o\")\n",
    "plt.title(\"Calories accoring to Date\")\n",
    "plt.xlabel(\"Date\")\n",
    "plt.ylabel(\"Calories\")\n",
    "plt.grid()"
   ]
  },
  {
   "cell_type": "code",
   "execution_count": null,
   "id": "54351f76",
   "metadata": {
    "papermill": {
     "duration": 0.013377,
     "end_time": "2025-03-21T06:34:05.060788",
     "exception": false,
     "start_time": "2025-03-21T06:34:05.047411",
     "status": "completed"
    },
    "tags": []
   },
   "outputs": [],
   "source": []
  }
 ],
 "metadata": {
  "kaggle": {
   "accelerator": "none",
   "dataSources": [
    {
     "datasetId": 2844100,
     "sourceId": 4904103,
     "sourceType": "datasetVersion"
    }
   ],
   "dockerImageVersionId": 30918,
   "isGpuEnabled": false,
   "isInternetEnabled": true,
   "language": "python",
   "sourceType": "notebook"
  },
  "kernelspec": {
   "display_name": "Python 3",
   "language": "python",
   "name": "python3"
  },
  "language_info": {
   "codemirror_mode": {
    "name": "ipython",
    "version": 3
   },
   "file_extension": ".py",
   "mimetype": "text/x-python",
   "name": "python",
   "nbconvert_exporter": "python",
   "pygments_lexer": "ipython3",
   "version": "3.10.12"
  },
  "papermill": {
   "default_parameters": {},
   "duration": 7.561524,
   "end_time": "2025-03-21T06:34:05.897847",
   "environment_variables": {},
   "exception": null,
   "input_path": "__notebook__.ipynb",
   "output_path": "__notebook__.ipynb",
   "parameters": {},
   "start_time": "2025-03-21T06:33:58.336323",
   "version": "2.6.0"
  }
 },
 "nbformat": 4,
 "nbformat_minor": 5
}
